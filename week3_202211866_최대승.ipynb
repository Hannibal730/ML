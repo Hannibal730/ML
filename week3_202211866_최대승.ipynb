{
  "nbformat": 4,
  "nbformat_minor": 0,
  "metadata": {
    "colab": {
      "provenance": [],
      "gpuType": "T4"
    },
    "kernelspec": {
      "name": "python3",
      "display_name": "Python 3"
    },
    "language_info": {
      "name": "python"
    },
    "accelerator": "GPU"
  },
  "cells": [
    {
      "cell_type": "markdown",
      "source": [
        "#추가한 컬럼 day, time에 대한 설명\n",
        "\n",
        "##* 테니스를 치는 직장인들을 대상으로 디시젼 트리를 제작하려 함.\n",
        "1. 직장인이 테나스를 칠 수 있는 time은 출근 이전과 퇴근 이후로 가정하였다.\n",
        "2. day 중 평일은 퇴근하면 힘들기 때문에, 날씨가 조금만 안 좋더라도 테니스 치러 가지 않는 것으로 가정하였다.\n",
        "3. 반면 주말은 출근하지 않기 때문에, 날씨가 안 좋더라도 사람들이 테니스 치러 가는 것으로 가정하였다.\n",
        "\n",
        "\n",
        "##* 테스트 학습용 14개, 테스트용 데이터 5개를 추가 제작함.\n",
        "1. day, time 컬럼의 데이터가 csv파일에서 문자열 데이터이기 때문에, 수치비교 과정에서 불편할 수 있다.\n",
        "2. 따라서 label_encoder = LabelEncoder()를 사용하여, 수치비교에 유리한 숫자형 데이터로 변환하였다."
      ],
      "metadata": {
        "id": "vG0zTrag9JME"
      }
    },
    {
      "cell_type": "code",
      "metadata": {
        "id": "Sqk7wGdTOHPD",
        "colab": {
          "base_uri": "https://localhost:8080/"
        },
        "outputId": "31cc5678-9db8-4205-dcf2-a156a4c24f95"
      },
      "source": [
        "from google.colab import drive\n",
        "drive.mount(\"/gdrive\", force_remount=True)"
      ],
      "execution_count": 1,
      "outputs": [
        {
          "output_type": "stream",
          "name": "stdout",
          "text": [
            "Mounted at /gdrive\n"
          ]
        }
      ]
    },
    {
      "cell_type": "code",
      "metadata": {
        "id": "YG51p4shPlaG",
        "colab": {
          "base_uri": "https://localhost:8080/"
        },
        "outputId": "133f5676-a1ee-4541-cae1-75b091d672e7"
      },
      "source": [
        "import pandas as pd\n",
        "from sklearn.preprocessing import LabelEncoder # 입력데이터 전처리용\n",
        "from sklearn import tree # 사이킷런에 디시젼 트리 라이브러리가 이미 있구나\n",
        "import graphviz # 그래픽스럽게 시각화해주는 라이브러리\n",
        "\n",
        "# 데이터 경로\n",
        "file_path = \"/gdrive/MyDrive/ML/PlayTennis2.csv\"\n",
        "# 데이터 경로로부터 파일을 읽음 (pandas 라이브러리 사용)\n",
        "datas = pd.read_csv(file_path)\n",
        "\n",
        "# 데이터 출력 (데이터 형태 확인)\n",
        "print(datas)"
      ],
      "execution_count": 12,
      "outputs": [
        {
          "output_type": "stream",
          "name": "stdout",
          "text": [
            "     outlook  temp humidity  windy  day      time play\n",
            "0      sunny   hot     high  False  Sun  07-21-35   no\n",
            "1      sunny   hot     high   True  Mon  13-48-02   no\n",
            "2   overcast   hot     high  False  Tue  20-10-54  yes\n",
            "3      rainy  mild     high  False  Wed  07-33-19   no\n",
            "4      rainy  cool   normal  False  Thu  16-56-08   no\n",
            "5      rainy  cool   normal   True  Fri  02-45-37   no\n",
            "6   overcast  cool   normal   True  Sat  09-17-23  yes\n",
            "7      sunny  mild     high  False  Sun  18-03-59  yes\n",
            "8      sunny  cool   normal  False  Mon  19-26-41  yes\n",
            "9      rainy  mild   normal  False  Tue  18-05-10   no\n",
            "10     sunny  mild   normal   True  Wed  20-52-47  yes\n",
            "11  overcast  mild     high   True  Thu  20-38-12  yes\n",
            "12  overcast   hot   normal  False  Fri  19-09-30  yes\n",
            "13     rainy  mild     high   True  Sat  08-44-55   no\n",
            "14     rainy   hot     high   True  Sun  19-27-04   no\n",
            "15     rainy  cool   normal  False  Mon  07-31-16  yes\n",
            "16     sunny  mild   normal   True  Tue  20-58-06  yes\n",
            "17  overcast   hot     high   True  Wed  23-14-50   no\n",
            "18  overcast  mild     high   True  Thu  20-40-29  yes\n"
          ]
        }
      ]
    },
    {
      "cell_type": "code",
      "metadata": {
        "colab": {
          "base_uri": "https://localhost:8080/"
        },
        "id": "9xu43hd3YBEE",
        "outputId": "049fb190-0c8c-4b7d-9bee-f316a29f0734"
      },
      "source": [
        "# 범주형 데이터를 수치형 데이터로 자동 변환해주는 라이브러리\n",
        "# 문자열-> 숫자 (디시젼 트리에서 그냥 숫자끼리 비교하기 위해서)\n",
        "label_encoder = LabelEncoder()\n",
        "\n",
        "# 클래시스를 찍어보면, 숫자로 바뀌기 전인 원래 문자열을 보여줌.\n",
        "# 정답 클래스 이름 (yes, no)\n",
        "target_names = label_encoder.fit(datas['play']).classes_\n",
        "print(\"target_names : {}\".format(target_names))\n",
        "\n",
        "# 써니, 오버캐스트, 레이니라는 문자열을 숫자로 바꿔주는 핏 트랜스폼하고, 바꾼 걸로 덮어쓰기\n",
        "datas['outlook'] = label_encoder.fit_transform(datas['outlook'])\n",
        "datas['temp'] = label_encoder.fit_transform(datas['temp'])\n",
        "datas['humidity'] = label_encoder.fit_transform(datas['humidity'])\n",
        "datas['windy'] = label_encoder.fit_transform(datas['windy'])\n",
        "\n",
        "datas['day'] = label_encoder.fit_transform(datas['day'])\n",
        "datas['time'] = label_encoder.fit_transform(datas['time'])\n",
        "\n",
        "datas['play'] = label_encoder.fit_transform(datas['play'])\n",
        "\n",
        "\n",
        "# 데이터 출력 (데이터 포맷 변환 후 결과 확인)\n",
        "print(datas)"
      ],
      "execution_count": 13,
      "outputs": [
        {
          "output_type": "stream",
          "name": "stdout",
          "text": [
            "target_names : ['no' 'yes']\n",
            "    outlook  temp  humidity  windy  day  time  play\n",
            "0         2     1         0      0    3     1     0\n",
            "1         2     1         0      1    1     6     0\n",
            "2         0     1         0      0    5    13     1\n",
            "3         1     2         0      0    6     3     0\n",
            "4         1     0         1      0    4     7     0\n",
            "5         1     0         1      1    0     0     0\n",
            "6         0     0         1      1    2     5     1\n",
            "7         2     2         0      0    3     8     1\n",
            "8         2     0         1      0    1    11     1\n",
            "9         1     2         1      0    5     9     0\n",
            "10        2     2         1      1    6    16     1\n",
            "11        0     2         0      1    4    14     1\n",
            "12        0     1         1      0    0    10     1\n",
            "13        1     2         0      1    2     4     0\n",
            "14        1     1         0      1    3    12     0\n",
            "15        1     0         1      0    1     2     1\n",
            "16        2     2         1      1    5    17     1\n",
            "17        0     1         0      1    6    18     0\n",
            "18        0     2         0      1    4    15     1\n"
          ]
        }
      ]
    },
    {
      "cell_type": "code",
      "metadata": {
        "id": "-jtuUVwyQCZc",
        "colab": {
          "base_uri": "https://localhost:8080/"
        },
        "outputId": "ec243c07-fc2a-46a6-bd98-1cfa2834155a"
      },
      "source": [
        "# 입력 데이터와 정답 데이터로 분리\n",
        "x_data, y_data = datas.drop(['play'], axis=1), datas['play']\n",
        "\n",
        "# 분리 결과 확인\n",
        "print(x_data)\n",
        "print()\n",
        "print(y_data)"
      ],
      "execution_count": 15,
      "outputs": [
        {
          "output_type": "stream",
          "name": "stdout",
          "text": [
            "    outlook  temp  humidity  windy  day  time\n",
            "0         2     1         0      0    3     1\n",
            "1         2     1         0      1    1     6\n",
            "2         0     1         0      0    5    13\n",
            "3         1     2         0      0    6     3\n",
            "4         1     0         1      0    4     7\n",
            "5         1     0         1      1    0     0\n",
            "6         0     0         1      1    2     5\n",
            "7         2     2         0      0    3     8\n",
            "8         2     0         1      0    1    11\n",
            "9         1     2         1      0    5     9\n",
            "10        2     2         1      1    6    16\n",
            "11        0     2         0      1    4    14\n",
            "12        0     1         1      0    0    10\n",
            "13        1     2         0      1    2     4\n",
            "14        1     1         0      1    3    12\n",
            "15        1     0         1      0    1     2\n",
            "16        2     2         1      1    5    17\n",
            "17        0     1         0      1    6    18\n",
            "18        0     2         0      1    4    15\n",
            "\n",
            "0     0\n",
            "1     0\n",
            "2     1\n",
            "3     0\n",
            "4     0\n",
            "5     0\n",
            "6     1\n",
            "7     1\n",
            "8     1\n",
            "9     0\n",
            "10    1\n",
            "11    1\n",
            "12    1\n",
            "13    0\n",
            "14    0\n",
            "15    1\n",
            "16    1\n",
            "17    0\n",
            "18    1\n",
            "Name: play, dtype: int64\n"
          ]
        }
      ]
    },
    {
      "cell_type": "code",
      "metadata": {
        "id": "K6hFTzgbYEtU"
      },
      "source": [
        "# Decision tree 모델 학습 ()\n",
        "decision_tree = tree.DecisionTreeClassifier(criterion = 'entropy') # 디시젼 트리를 만들되, 엔트로피를 기준으로.\n",
        "train_result = decision_tree.fit(x_data, y_data)"
      ],
      "execution_count": 16,
      "outputs": []
    },
    {
      "cell_type": "code",
      "metadata": {
        "colab": {
          "base_uri": "https://localhost:8080/",
          "height": 915
        },
        "id": "RrLrZwJWYKnb",
        "outputId": "723955e4-0946-4432-b897-9c52436af03e"
      },
      "source": [
        "# 학습 결과 확인 (graphviz 라이브러리 사용)\n",
        "graph = graphviz.Source(tree.export_graphviz(train_result, out_file=None,\n",
        "                                             feature_names=x_data.columns,\n",
        "                                             class_names=target_names))\n",
        "graph"
      ],
      "execution_count": 19,
      "outputs": [
        {
          "output_type": "execute_result",
          "data": {
            "image/svg+xml": "<?xml version=\"1.0\" encoding=\"UTF-8\" standalone=\"no\"?>\n<!DOCTYPE svg PUBLIC \"-//W3C//DTD SVG 1.1//EN\"\n \"http://www.w3.org/Graphics/SVG/1.1/DTD/svg11.dtd\">\n<!-- Generated by graphviz version 2.43.0 (0)\n -->\n<!-- Title: Tree Pages: 1 -->\n<svg width=\"585pt\" height=\"671pt\"\n viewBox=\"0.00 0.00 585.00 671.00\" xmlns=\"http://www.w3.org/2000/svg\" xmlns:xlink=\"http://www.w3.org/1999/xlink\">\n<g id=\"graph0\" class=\"graph\" transform=\"scale(1 1) rotate(0) translate(4 667)\">\n<title>Tree</title>\n<polygon fill=\"white\" stroke=\"transparent\" points=\"-4,4 -4,-667 581,-667 581,4 -4,4\"/>\n<!-- 0 -->\n<g id=\"node1\" class=\"node\">\n<title>0</title>\n<polygon fill=\"none\" stroke=\"black\" points=\"397.5,-663 286.5,-663 286.5,-580 397.5,-580 397.5,-663\"/>\n<text text-anchor=\"middle\" x=\"342\" y=\"-647.8\" font-family=\"Helvetica,sans-Serif\" font-size=\"14.00\">time &lt;= 9.5</text>\n<text text-anchor=\"middle\" x=\"342\" y=\"-632.8\" font-family=\"Helvetica,sans-Serif\" font-size=\"14.00\">entropy = 0.998</text>\n<text text-anchor=\"middle\" x=\"342\" y=\"-617.8\" font-family=\"Helvetica,sans-Serif\" font-size=\"14.00\">samples = 19</text>\n<text text-anchor=\"middle\" x=\"342\" y=\"-602.8\" font-family=\"Helvetica,sans-Serif\" font-size=\"14.00\">value = [9, 10]</text>\n<text text-anchor=\"middle\" x=\"342\" y=\"-587.8\" font-family=\"Helvetica,sans-Serif\" font-size=\"14.00\">class = yes</text>\n</g>\n<!-- 1 -->\n<g id=\"node2\" class=\"node\">\n<title>1</title>\n<polygon fill=\"none\" stroke=\"black\" points=\"333.5,-544 222.5,-544 222.5,-461 333.5,-461 333.5,-544\"/>\n<text text-anchor=\"middle\" x=\"278\" y=\"-528.8\" font-family=\"Helvetica,sans-Serif\" font-size=\"14.00\">outlook &lt;= 0.5</text>\n<text text-anchor=\"middle\" x=\"278\" y=\"-513.8\" font-family=\"Helvetica,sans-Serif\" font-size=\"14.00\">entropy = 0.881</text>\n<text text-anchor=\"middle\" x=\"278\" y=\"-498.8\" font-family=\"Helvetica,sans-Serif\" font-size=\"14.00\">samples = 10</text>\n<text text-anchor=\"middle\" x=\"278\" y=\"-483.8\" font-family=\"Helvetica,sans-Serif\" font-size=\"14.00\">value = [7, 3]</text>\n<text text-anchor=\"middle\" x=\"278\" y=\"-468.8\" font-family=\"Helvetica,sans-Serif\" font-size=\"14.00\">class = no</text>\n</g>\n<!-- 0&#45;&gt;1 -->\n<g id=\"edge1\" class=\"edge\">\n<title>0&#45;&gt;1</title>\n<path fill=\"none\" stroke=\"black\" d=\"M319.8,-579.91C315.03,-571.2 309.94,-561.9 305.02,-552.89\"/>\n<polygon fill=\"black\" stroke=\"black\" points=\"308.03,-551.11 300.17,-544.02 301.89,-554.47 308.03,-551.11\"/>\n<text text-anchor=\"middle\" x=\"293.14\" y=\"-564.31\" font-family=\"Helvetica,sans-Serif\" font-size=\"14.00\">True</text>\n</g>\n<!-- 10 -->\n<g id=\"node11\" class=\"node\">\n<title>10</title>\n<polygon fill=\"none\" stroke=\"black\" points=\"462.5,-544 351.5,-544 351.5,-461 462.5,-461 462.5,-544\"/>\n<text text-anchor=\"middle\" x=\"407\" y=\"-528.8\" font-family=\"Helvetica,sans-Serif\" font-size=\"14.00\">time &lt;= 17.5</text>\n<text text-anchor=\"middle\" x=\"407\" y=\"-513.8\" font-family=\"Helvetica,sans-Serif\" font-size=\"14.00\">entropy = 0.764</text>\n<text text-anchor=\"middle\" x=\"407\" y=\"-498.8\" font-family=\"Helvetica,sans-Serif\" font-size=\"14.00\">samples = 9</text>\n<text text-anchor=\"middle\" x=\"407\" y=\"-483.8\" font-family=\"Helvetica,sans-Serif\" font-size=\"14.00\">value = [2, 7]</text>\n<text text-anchor=\"middle\" x=\"407\" y=\"-468.8\" font-family=\"Helvetica,sans-Serif\" font-size=\"14.00\">class = yes</text>\n</g>\n<!-- 0&#45;&gt;10 -->\n<g id=\"edge10\" class=\"edge\">\n<title>0&#45;&gt;10</title>\n<path fill=\"none\" stroke=\"black\" d=\"M364.55,-579.91C369.39,-571.2 374.56,-561.9 379.56,-552.89\"/>\n<polygon fill=\"black\" stroke=\"black\" points=\"382.69,-554.46 384.49,-544.02 376.57,-551.06 382.69,-554.46\"/>\n<text text-anchor=\"middle\" x=\"391.36\" y=\"-564.36\" font-family=\"Helvetica,sans-Serif\" font-size=\"14.00\">False</text>\n</g>\n<!-- 2 -->\n<g id=\"node3\" class=\"node\">\n<title>2</title>\n<polygon fill=\"none\" stroke=\"black\" points=\"204,-417.5 108,-417.5 108,-349.5 204,-349.5 204,-417.5\"/>\n<text text-anchor=\"middle\" x=\"156\" y=\"-402.3\" font-family=\"Helvetica,sans-Serif\" font-size=\"14.00\">entropy = 0.0</text>\n<text text-anchor=\"middle\" x=\"156\" y=\"-387.3\" font-family=\"Helvetica,sans-Serif\" font-size=\"14.00\">samples = 1</text>\n<text text-anchor=\"middle\" x=\"156\" y=\"-372.3\" font-family=\"Helvetica,sans-Serif\" font-size=\"14.00\">value = [0, 1]</text>\n<text text-anchor=\"middle\" x=\"156\" y=\"-357.3\" font-family=\"Helvetica,sans-Serif\" font-size=\"14.00\">class = yes</text>\n</g>\n<!-- 1&#45;&gt;2 -->\n<g id=\"edge2\" class=\"edge\">\n<title>1&#45;&gt;2</title>\n<path fill=\"none\" stroke=\"black\" d=\"M235.67,-460.91C223.48,-449.21 210.18,-436.46 198,-424.78\"/>\n<polygon fill=\"black\" stroke=\"black\" points=\"200.22,-422.06 190.58,-417.67 195.38,-427.11 200.22,-422.06\"/>\n</g>\n<!-- 3 -->\n<g id=\"node4\" class=\"node\">\n<title>3</title>\n<polygon fill=\"none\" stroke=\"black\" points=\"333.5,-425 222.5,-425 222.5,-342 333.5,-342 333.5,-425\"/>\n<text text-anchor=\"middle\" x=\"278\" y=\"-409.8\" font-family=\"Helvetica,sans-Serif\" font-size=\"14.00\">windy &lt;= 0.5</text>\n<text text-anchor=\"middle\" x=\"278\" y=\"-394.8\" font-family=\"Helvetica,sans-Serif\" font-size=\"14.00\">entropy = 0.764</text>\n<text text-anchor=\"middle\" x=\"278\" y=\"-379.8\" font-family=\"Helvetica,sans-Serif\" font-size=\"14.00\">samples = 9</text>\n<text text-anchor=\"middle\" x=\"278\" y=\"-364.8\" font-family=\"Helvetica,sans-Serif\" font-size=\"14.00\">value = [7, 2]</text>\n<text text-anchor=\"middle\" x=\"278\" y=\"-349.8\" font-family=\"Helvetica,sans-Serif\" font-size=\"14.00\">class = no</text>\n</g>\n<!-- 1&#45;&gt;3 -->\n<g id=\"edge3\" class=\"edge\">\n<title>1&#45;&gt;3</title>\n<path fill=\"none\" stroke=\"black\" d=\"M278,-460.91C278,-452.65 278,-443.86 278,-435.3\"/>\n<polygon fill=\"black\" stroke=\"black\" points=\"281.5,-435.02 278,-425.02 274.5,-435.02 281.5,-435.02\"/>\n</g>\n<!-- 4 -->\n<g id=\"node5\" class=\"node\">\n<title>4</title>\n<polygon fill=\"none\" stroke=\"black\" points=\"213.5,-306 102.5,-306 102.5,-223 213.5,-223 213.5,-306\"/>\n<text text-anchor=\"middle\" x=\"158\" y=\"-290.8\" font-family=\"Helvetica,sans-Serif\" font-size=\"14.00\">day &lt;= 3.5</text>\n<text text-anchor=\"middle\" x=\"158\" y=\"-275.8\" font-family=\"Helvetica,sans-Serif\" font-size=\"14.00\">entropy = 0.918</text>\n<text text-anchor=\"middle\" x=\"158\" y=\"-260.8\" font-family=\"Helvetica,sans-Serif\" font-size=\"14.00\">samples = 6</text>\n<text text-anchor=\"middle\" x=\"158\" y=\"-245.8\" font-family=\"Helvetica,sans-Serif\" font-size=\"14.00\">value = [4, 2]</text>\n<text text-anchor=\"middle\" x=\"158\" y=\"-230.8\" font-family=\"Helvetica,sans-Serif\" font-size=\"14.00\">class = no</text>\n</g>\n<!-- 3&#45;&gt;4 -->\n<g id=\"edge4\" class=\"edge\">\n<title>3&#45;&gt;4</title>\n<path fill=\"none\" stroke=\"black\" d=\"M236.37,-341.91C226.87,-332.65 216.7,-322.73 206.93,-313.21\"/>\n<polygon fill=\"black\" stroke=\"black\" points=\"209.16,-310.5 199.56,-306.02 204.28,-315.51 209.16,-310.5\"/>\n</g>\n<!-- 9 -->\n<g id=\"node10\" class=\"node\">\n<title>9</title>\n<polygon fill=\"none\" stroke=\"black\" points=\"328,-298.5 232,-298.5 232,-230.5 328,-230.5 328,-298.5\"/>\n<text text-anchor=\"middle\" x=\"280\" y=\"-283.3\" font-family=\"Helvetica,sans-Serif\" font-size=\"14.00\">entropy = 0.0</text>\n<text text-anchor=\"middle\" x=\"280\" y=\"-268.3\" font-family=\"Helvetica,sans-Serif\" font-size=\"14.00\">samples = 3</text>\n<text text-anchor=\"middle\" x=\"280\" y=\"-253.3\" font-family=\"Helvetica,sans-Serif\" font-size=\"14.00\">value = [3, 0]</text>\n<text text-anchor=\"middle\" x=\"280\" y=\"-238.3\" font-family=\"Helvetica,sans-Serif\" font-size=\"14.00\">class = no</text>\n</g>\n<!-- 3&#45;&gt;9 -->\n<g id=\"edge9\" class=\"edge\">\n<title>3&#45;&gt;9</title>\n<path fill=\"none\" stroke=\"black\" d=\"M278.69,-341.91C278.88,-331.2 279.07,-319.62 279.26,-308.78\"/>\n<polygon fill=\"black\" stroke=\"black\" points=\"282.76,-308.73 279.43,-298.67 275.76,-308.61 282.76,-308.73\"/>\n</g>\n<!-- 5 -->\n<g id=\"node6\" class=\"node\">\n<title>5</title>\n<polygon fill=\"none\" stroke=\"black\" points=\"160.5,-187 49.5,-187 49.5,-104 160.5,-104 160.5,-187\"/>\n<text text-anchor=\"middle\" x=\"105\" y=\"-171.8\" font-family=\"Helvetica,sans-Serif\" font-size=\"14.00\">time &lt;= 1.5</text>\n<text text-anchor=\"middle\" x=\"105\" y=\"-156.8\" font-family=\"Helvetica,sans-Serif\" font-size=\"14.00\">entropy = 0.918</text>\n<text text-anchor=\"middle\" x=\"105\" y=\"-141.8\" font-family=\"Helvetica,sans-Serif\" font-size=\"14.00\">samples = 3</text>\n<text text-anchor=\"middle\" x=\"105\" y=\"-126.8\" font-family=\"Helvetica,sans-Serif\" font-size=\"14.00\">value = [1, 2]</text>\n<text text-anchor=\"middle\" x=\"105\" y=\"-111.8\" font-family=\"Helvetica,sans-Serif\" font-size=\"14.00\">class = yes</text>\n</g>\n<!-- 4&#45;&gt;5 -->\n<g id=\"edge5\" class=\"edge\">\n<title>4&#45;&gt;5</title>\n<path fill=\"none\" stroke=\"black\" d=\"M139.61,-222.91C135.71,-214.29 131.54,-205.09 127.5,-196.17\"/>\n<polygon fill=\"black\" stroke=\"black\" points=\"130.67,-194.69 123.36,-187.02 124.29,-197.57 130.67,-194.69\"/>\n</g>\n<!-- 8 -->\n<g id=\"node9\" class=\"node\">\n<title>8</title>\n<polygon fill=\"none\" stroke=\"black\" points=\"275,-179.5 179,-179.5 179,-111.5 275,-111.5 275,-179.5\"/>\n<text text-anchor=\"middle\" x=\"227\" y=\"-164.3\" font-family=\"Helvetica,sans-Serif\" font-size=\"14.00\">entropy = 0.0</text>\n<text text-anchor=\"middle\" x=\"227\" y=\"-149.3\" font-family=\"Helvetica,sans-Serif\" font-size=\"14.00\">samples = 3</text>\n<text text-anchor=\"middle\" x=\"227\" y=\"-134.3\" font-family=\"Helvetica,sans-Serif\" font-size=\"14.00\">value = [3, 0]</text>\n<text text-anchor=\"middle\" x=\"227\" y=\"-119.3\" font-family=\"Helvetica,sans-Serif\" font-size=\"14.00\">class = no</text>\n</g>\n<!-- 4&#45;&gt;8 -->\n<g id=\"edge8\" class=\"edge\">\n<title>4&#45;&gt;8</title>\n<path fill=\"none\" stroke=\"black\" d=\"M181.94,-222.91C188.51,-211.76 195.65,-199.66 202.27,-188.44\"/>\n<polygon fill=\"black\" stroke=\"black\" points=\"205.37,-190.06 207.44,-179.67 199.35,-186.5 205.37,-190.06\"/>\n</g>\n<!-- 6 -->\n<g id=\"node7\" class=\"node\">\n<title>6</title>\n<polygon fill=\"none\" stroke=\"black\" points=\"96,-68 0,-68 0,0 96,0 96,-68\"/>\n<text text-anchor=\"middle\" x=\"48\" y=\"-52.8\" font-family=\"Helvetica,sans-Serif\" font-size=\"14.00\">entropy = 0.0</text>\n<text text-anchor=\"middle\" x=\"48\" y=\"-37.8\" font-family=\"Helvetica,sans-Serif\" font-size=\"14.00\">samples = 1</text>\n<text text-anchor=\"middle\" x=\"48\" y=\"-22.8\" font-family=\"Helvetica,sans-Serif\" font-size=\"14.00\">value = [1, 0]</text>\n<text text-anchor=\"middle\" x=\"48\" y=\"-7.8\" font-family=\"Helvetica,sans-Serif\" font-size=\"14.00\">class = no</text>\n</g>\n<!-- 5&#45;&gt;6 -->\n<g id=\"edge6\" class=\"edge\">\n<title>5&#45;&gt;6</title>\n<path fill=\"none\" stroke=\"black\" d=\"M83.78,-103.73C79.26,-95.06 74.49,-85.9 69.96,-77.18\"/>\n<polygon fill=\"black\" stroke=\"black\" points=\"73.06,-75.55 65.33,-68.3 66.85,-78.79 73.06,-75.55\"/>\n</g>\n<!-- 7 -->\n<g id=\"node8\" class=\"node\">\n<title>7</title>\n<polygon fill=\"none\" stroke=\"black\" points=\"210,-68 114,-68 114,0 210,0 210,-68\"/>\n<text text-anchor=\"middle\" x=\"162\" y=\"-52.8\" font-family=\"Helvetica,sans-Serif\" font-size=\"14.00\">entropy = 0.0</text>\n<text text-anchor=\"middle\" x=\"162\" y=\"-37.8\" font-family=\"Helvetica,sans-Serif\" font-size=\"14.00\">samples = 2</text>\n<text text-anchor=\"middle\" x=\"162\" y=\"-22.8\" font-family=\"Helvetica,sans-Serif\" font-size=\"14.00\">value = [0, 2]</text>\n<text text-anchor=\"middle\" x=\"162\" y=\"-7.8\" font-family=\"Helvetica,sans-Serif\" font-size=\"14.00\">class = yes</text>\n</g>\n<!-- 5&#45;&gt;7 -->\n<g id=\"edge7\" class=\"edge\">\n<title>5&#45;&gt;7</title>\n<path fill=\"none\" stroke=\"black\" d=\"M126.22,-103.73C130.74,-95.06 135.51,-85.9 140.04,-77.18\"/>\n<polygon fill=\"black\" stroke=\"black\" points=\"143.15,-78.79 144.67,-68.3 136.94,-75.55 143.15,-78.79\"/>\n</g>\n<!-- 11 -->\n<g id=\"node12\" class=\"node\">\n<title>11</title>\n<polygon fill=\"none\" stroke=\"black\" points=\"462.5,-425 351.5,-425 351.5,-342 462.5,-342 462.5,-425\"/>\n<text text-anchor=\"middle\" x=\"407\" y=\"-409.8\" font-family=\"Helvetica,sans-Serif\" font-size=\"14.00\">day &lt;= 3.5</text>\n<text text-anchor=\"middle\" x=\"407\" y=\"-394.8\" font-family=\"Helvetica,sans-Serif\" font-size=\"14.00\">entropy = 0.544</text>\n<text text-anchor=\"middle\" x=\"407\" y=\"-379.8\" font-family=\"Helvetica,sans-Serif\" font-size=\"14.00\">samples = 8</text>\n<text text-anchor=\"middle\" x=\"407\" y=\"-364.8\" font-family=\"Helvetica,sans-Serif\" font-size=\"14.00\">value = [1, 7]</text>\n<text text-anchor=\"middle\" x=\"407\" y=\"-349.8\" font-family=\"Helvetica,sans-Serif\" font-size=\"14.00\">class = yes</text>\n</g>\n<!-- 10&#45;&gt;11 -->\n<g id=\"edge11\" class=\"edge\">\n<title>10&#45;&gt;11</title>\n<path fill=\"none\" stroke=\"black\" d=\"M407,-460.91C407,-452.65 407,-443.86 407,-435.3\"/>\n<polygon fill=\"black\" stroke=\"black\" points=\"410.5,-435.02 407,-425.02 403.5,-435.02 410.5,-435.02\"/>\n</g>\n<!-- 16 -->\n<g id=\"node17\" class=\"node\">\n<title>16</title>\n<polygon fill=\"none\" stroke=\"black\" points=\"577,-417.5 481,-417.5 481,-349.5 577,-349.5 577,-417.5\"/>\n<text text-anchor=\"middle\" x=\"529\" y=\"-402.3\" font-family=\"Helvetica,sans-Serif\" font-size=\"14.00\">entropy = 0.0</text>\n<text text-anchor=\"middle\" x=\"529\" y=\"-387.3\" font-family=\"Helvetica,sans-Serif\" font-size=\"14.00\">samples = 1</text>\n<text text-anchor=\"middle\" x=\"529\" y=\"-372.3\" font-family=\"Helvetica,sans-Serif\" font-size=\"14.00\">value = [1, 0]</text>\n<text text-anchor=\"middle\" x=\"529\" y=\"-357.3\" font-family=\"Helvetica,sans-Serif\" font-size=\"14.00\">class = no</text>\n</g>\n<!-- 10&#45;&gt;16 -->\n<g id=\"edge16\" class=\"edge\">\n<title>10&#45;&gt;16</title>\n<path fill=\"none\" stroke=\"black\" d=\"M449.33,-460.91C461.52,-449.21 474.82,-436.46 487,-424.78\"/>\n<polygon fill=\"black\" stroke=\"black\" points=\"489.62,-427.11 494.42,-417.67 484.78,-422.06 489.62,-427.11\"/>\n</g>\n<!-- 12 -->\n<g id=\"node13\" class=\"node\">\n<title>12</title>\n<polygon fill=\"none\" stroke=\"black\" points=\"460.5,-306 349.5,-306 349.5,-223 460.5,-223 460.5,-306\"/>\n<text text-anchor=\"middle\" x=\"405\" y=\"-290.8\" font-family=\"Helvetica,sans-Serif\" font-size=\"14.00\">day &lt;= 2.0</text>\n<text text-anchor=\"middle\" x=\"405\" y=\"-275.8\" font-family=\"Helvetica,sans-Serif\" font-size=\"14.00\">entropy = 0.918</text>\n<text text-anchor=\"middle\" x=\"405\" y=\"-260.8\" font-family=\"Helvetica,sans-Serif\" font-size=\"14.00\">samples = 3</text>\n<text text-anchor=\"middle\" x=\"405\" y=\"-245.8\" font-family=\"Helvetica,sans-Serif\" font-size=\"14.00\">value = [1, 2]</text>\n<text text-anchor=\"middle\" x=\"405\" y=\"-230.8\" font-family=\"Helvetica,sans-Serif\" font-size=\"14.00\">class = yes</text>\n</g>\n<!-- 11&#45;&gt;12 -->\n<g id=\"edge12\" class=\"edge\">\n<title>11&#45;&gt;12</title>\n<path fill=\"none\" stroke=\"black\" d=\"M406.31,-341.91C406.16,-333.56 406.01,-324.67 405.86,-316.02\"/>\n<polygon fill=\"black\" stroke=\"black\" points=\"409.36,-315.96 405.69,-306.02 402.36,-316.08 409.36,-315.96\"/>\n</g>\n<!-- 15 -->\n<g id=\"node16\" class=\"node\">\n<title>15</title>\n<polygon fill=\"none\" stroke=\"black\" points=\"575,-298.5 479,-298.5 479,-230.5 575,-230.5 575,-298.5\"/>\n<text text-anchor=\"middle\" x=\"527\" y=\"-283.3\" font-family=\"Helvetica,sans-Serif\" font-size=\"14.00\">entropy = 0.0</text>\n<text text-anchor=\"middle\" x=\"527\" y=\"-268.3\" font-family=\"Helvetica,sans-Serif\" font-size=\"14.00\">samples = 5</text>\n<text text-anchor=\"middle\" x=\"527\" y=\"-253.3\" font-family=\"Helvetica,sans-Serif\" font-size=\"14.00\">value = [0, 5]</text>\n<text text-anchor=\"middle\" x=\"527\" y=\"-238.3\" font-family=\"Helvetica,sans-Serif\" font-size=\"14.00\">class = yes</text>\n</g>\n<!-- 11&#45;&gt;15 -->\n<g id=\"edge15\" class=\"edge\">\n<title>11&#45;&gt;15</title>\n<path fill=\"none\" stroke=\"black\" d=\"M448.63,-341.91C460.63,-330.21 473.71,-317.46 485.69,-305.78\"/>\n<polygon fill=\"black\" stroke=\"black\" points=\"488.27,-308.15 492.98,-298.67 483.38,-303.14 488.27,-308.15\"/>\n</g>\n<!-- 13 -->\n<g id=\"node14\" class=\"node\">\n<title>13</title>\n<polygon fill=\"none\" stroke=\"black\" points=\"421,-179.5 325,-179.5 325,-111.5 421,-111.5 421,-179.5\"/>\n<text text-anchor=\"middle\" x=\"373\" y=\"-164.3\" font-family=\"Helvetica,sans-Serif\" font-size=\"14.00\">entropy = 0.0</text>\n<text text-anchor=\"middle\" x=\"373\" y=\"-149.3\" font-family=\"Helvetica,sans-Serif\" font-size=\"14.00\">samples = 2</text>\n<text text-anchor=\"middle\" x=\"373\" y=\"-134.3\" font-family=\"Helvetica,sans-Serif\" font-size=\"14.00\">value = [0, 2]</text>\n<text text-anchor=\"middle\" x=\"373\" y=\"-119.3\" font-family=\"Helvetica,sans-Serif\" font-size=\"14.00\">class = yes</text>\n</g>\n<!-- 12&#45;&gt;13 -->\n<g id=\"edge13\" class=\"edge\">\n<title>12&#45;&gt;13</title>\n<path fill=\"none\" stroke=\"black\" d=\"M393.9,-222.91C390.94,-212.09 387.74,-200.38 384.74,-189.44\"/>\n<polygon fill=\"black\" stroke=\"black\" points=\"388.09,-188.39 382.07,-179.67 381.33,-190.24 388.09,-188.39\"/>\n</g>\n<!-- 14 -->\n<g id=\"node15\" class=\"node\">\n<title>14</title>\n<polygon fill=\"none\" stroke=\"black\" points=\"535,-179.5 439,-179.5 439,-111.5 535,-111.5 535,-179.5\"/>\n<text text-anchor=\"middle\" x=\"487\" y=\"-164.3\" font-family=\"Helvetica,sans-Serif\" font-size=\"14.00\">entropy = 0.0</text>\n<text text-anchor=\"middle\" x=\"487\" y=\"-149.3\" font-family=\"Helvetica,sans-Serif\" font-size=\"14.00\">samples = 1</text>\n<text text-anchor=\"middle\" x=\"487\" y=\"-134.3\" font-family=\"Helvetica,sans-Serif\" font-size=\"14.00\">value = [1, 0]</text>\n<text text-anchor=\"middle\" x=\"487\" y=\"-119.3\" font-family=\"Helvetica,sans-Serif\" font-size=\"14.00\">class = no</text>\n</g>\n<!-- 12&#45;&gt;14 -->\n<g id=\"edge14\" class=\"edge\">\n<title>12&#45;&gt;14</title>\n<path fill=\"none\" stroke=\"black\" d=\"M433.45,-222.91C441.34,-211.65 449.91,-199.42 457.84,-188.11\"/>\n<polygon fill=\"black\" stroke=\"black\" points=\"460.88,-189.86 463.75,-179.67 455.15,-185.85 460.88,-189.86\"/>\n</g>\n</g>\n</svg>\n",
            "text/plain": [
              "<graphviz.sources.Source at 0x792060fcd150>"
            ]
          },
          "metadata": {},
          "execution_count": 19
        }
      ]
    },
    {
      "cell_type": "code",
      "source": [
        "# 학습한 모델을 사용하여 테스트용 데이터 5개를 예측\n",
        "test_data = x_data.iloc[14:19]  # 테스트 데이터 인덱싱\n",
        "\n",
        "predict_result = decision_tree.predict(test_data)\n",
        "\n",
        "# 예측 결과 출력 (실제 정답을 맞춘 경우 True로 표시됨)\n",
        "real_y_data = y_data.iloc[14:19]\n",
        "print(predict_result == real_y_data)"
      ],
      "metadata": {
        "colab": {
          "base_uri": "https://localhost:8080/"
        },
        "id": "VMR9cCtvzoVz",
        "outputId": "9ca9b33a-938e-4944-d457-5020ff24a55a"
      },
      "execution_count": 21,
      "outputs": [
        {
          "output_type": "stream",
          "name": "stdout",
          "text": [
            "14    True\n",
            "15    True\n",
            "16    True\n",
            "17    True\n",
            "18    True\n",
            "Name: play, dtype: bool\n"
          ]
        }
      ]
    },
    {
      "cell_type": "markdown",
      "source": [
        "* 디시젼 트리는 수정이 쉽고 속도가 빠르다는 장점이 있다."
      ],
      "metadata": {
        "id": "eneh04Avszmm"
      }
    },
    {
      "cell_type": "code",
      "source": [],
      "metadata": {
        "id": "tnAFHiAYtzNB"
      },
      "execution_count": null,
      "outputs": []
    }
  ]
}