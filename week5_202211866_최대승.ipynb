{
  "nbformat": 4,
  "nbformat_minor": 0,
  "metadata": {
    "colab": {
      "provenance": []
    },
    "kernelspec": {
      "name": "python3",
      "display_name": "Python 3"
    },
    "language_info": {
      "name": "python"
    }
  },
  "cells": [
    {
      "cell_type": "code",
      "source": [
        " !pip install hmmlearn==0.2.7"
      ],
      "metadata": {
        "colab": {
          "base_uri": "https://localhost:8080/"
        },
        "id": "GYnCwh_VSTEQ",
        "outputId": "32306095-d93d-4127-cbf7-399c7336de96"
      },
      "execution_count": 2,
      "outputs": [
        {
          "output_type": "stream",
          "name": "stdout",
          "text": [
            "Collecting hmmlearn==0.2.7\n",
            "  Downloading hmmlearn-0.2.7-cp310-cp310-manylinux_2_12_x86_64.manylinux2010_x86_64.whl.metadata (2.8 kB)\n",
            "Requirement already satisfied: numpy>=1.10 in /usr/local/lib/python3.10/dist-packages (from hmmlearn==0.2.7) (1.26.4)\n",
            "Requirement already satisfied: scikit-learn>=0.16 in /usr/local/lib/python3.10/dist-packages (from hmmlearn==0.2.7) (1.5.2)\n",
            "Requirement already satisfied: scipy>=0.19 in /usr/local/lib/python3.10/dist-packages (from hmmlearn==0.2.7) (1.13.1)\n",
            "Requirement already satisfied: joblib>=1.2.0 in /usr/local/lib/python3.10/dist-packages (from scikit-learn>=0.16->hmmlearn==0.2.7) (1.4.2)\n",
            "Requirement already satisfied: threadpoolctl>=3.1.0 in /usr/local/lib/python3.10/dist-packages (from scikit-learn>=0.16->hmmlearn==0.2.7) (3.5.0)\n",
            "Downloading hmmlearn-0.2.7-cp310-cp310-manylinux_2_12_x86_64.manylinux2010_x86_64.whl (129 kB)\n",
            "\u001b[2K   \u001b[90m━━━━━━━━━━━━━━━━━━━━━━━━━━━━━━━━━━━━━━━━\u001b[0m \u001b[32m129.6/129.6 kB\u001b[0m \u001b[31m2.7 MB/s\u001b[0m eta \u001b[36m0:00:00\u001b[0m\n",
            "\u001b[?25hInstalling collected packages: hmmlearn\n",
            "Successfully installed hmmlearn-0.2.7\n"
          ]
        }
      ]
    },
    {
      "cell_type": "code",
      "source": [
        "import numpy as np\n",
        "from hmmlearn import hmm\n",
        "\n",
        "states = [\"Rainy\", \"Sunny\"]\n",
        "n_states = len(states) #2\n",
        "\n",
        "observations = [\"Walk\", \"Shop\", \"Clean\"]\n",
        "n_observations = len(observations) #3\n",
        "\n",
        "# 시작 확률\n",
        "start_probability = np.array([0.6, 0.4]) # 초기에 어떤 states를 고를지를 나타내는 확률\n",
        "\n",
        "# 전이 확률\n",
        "#   R S\n",
        "# R\n",
        "# S\n",
        "transition_probability = np.array([\n",
        "  [0.7, 0.3],\n",
        "  [0.4, 0.6]\n",
        "])\n",
        "\n",
        "# 관측 확률 (옵저베이션 프랍이랑 같은 표현이지만 더 많이 사용하는 표현)\n",
        "#   W S C\n",
        "# R\n",
        "# S\n",
        "emission_probability = np.array([\n",
        "  [0.1, 0.4, 0.5],\n",
        "  [0.6, 0.3, 0.1]\n",
        "])\n",
        "\n",
        "\n",
        "# 모델 만들기\n",
        "model = hmm.MultinomialHMM(n_components=n_states)\n",
        "model.startprob_ = start_probability\n",
        "model.transmat_ = transition_probability\n",
        "model.emissionprob_ = emission_probability\n",
        "\n",
        "# 관측 입력\n",
        "input = [0, 0, 2, 1] # W W C S\n",
        "\n",
        "# HMM 모델 호출\n",
        "hmm_input = np.atleast_2d(input).T # 요소가 4개인 1차원 벡터를 2차원인 벡터1*4로 만들고, 트렌스포짓해서 4*1로 만들기\n",
        "logprob, sequence = model.decode(hmm_input)\n",
        "\n",
        "print(\"Input :\", \", \".join(map(lambda x: observations[x], input)))\n",
        "print(\"Output:\", \", \".join(map(lambda x: states[x], sequence)))\n",
        "print(\"Prob. :\", logprob)"
      ],
      "metadata": {
        "colab": {
          "base_uri": "https://localhost:8080/"
        },
        "id": "wQ-HHtpHSW1s",
        "outputId": "6feefcff-dad1-43b6-dee4-01ea3c2a0250"
      },
      "execution_count": 3,
      "outputs": [
        {
          "output_type": "stream",
          "name": "stdout",
          "text": [
            "Input : Walk, Walk, Clean, Shop\n",
            "Output: Sunny, Sunny, Rainy, Rainy\n",
            "Prob. : -5.331171191419115\n"
          ]
        }
      ]
    }
  ]
}